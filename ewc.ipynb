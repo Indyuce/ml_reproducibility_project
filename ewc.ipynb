{
 "cells": [
  {
   "cell_type": "markdown",
   "metadata": {},
   "source": [
    "## Dependencies"
   ]
  },
  {
   "cell_type": "code",
   "execution_count": 70,
   "metadata": {},
   "outputs": [],
   "source": [
    "import torch\n",
    "import torchvision\n",
    "import matplotlib.pyplot as plt\n",
    "\n",
    "import numpy as np\n",
    "\n",
    "import torch.nn.functional as F\n",
    "from torch.utils.data import DataLoader\n",
    "from time import time\n",
    "from torchvision import transforms"
   ]
  },
  {
   "cell_type": "markdown",
   "metadata": {},
   "source": [
    "### Choice of dataset\n",
    "\n",
    "The first possible dataset is **permuted MNIST**. The model will be trained on different variations of the same dataset. Each variation corresponds to a different classification task as stated in the paper. The permuted MNIST dataset consists in fist flattening the black and white images of hand written digits and applying a random permutation to the whole dataset of flattened pixel data vectors.\n",
    "\n",
    "The second possible dataset is **rotated MNIST**. Each variation corresponds to MNIST rotated by $ 10(i-1)$ degree if $i$ is the index of the variation/task."
   ]
  },
  {
   "cell_type": "code",
   "execution_count": 78,
   "metadata": {},
   "outputs": [],
   "source": [
    "BATCH_SIZE = 128\n",
    "VAL_FRAC   = 0.1\n",
    "\n",
    "TRANSFORM = transforms.Compose([\n",
    "    transforms.ToTensor(),\n",
    "    transforms.Lambda(lambda x: x.view(-1))  # Flatten the image\n",
    "])\n",
    "\n",
    "def generate_permuted_mnist(i):\n",
    "    raw_dataset = torchvision.datasets.MNIST(root='./data', train=True, transform=TRANSFORM, download=True)\n",
    "    test_dataset = torchvision.datasets.MNIST(root='./data', train=False, transform=TRANSFORM, download=True)\n",
    "    \n",
    "    # Permute the dataset\n",
    "    permutation = torch.randperm(28 * 28)\n",
    "    raw_dataset.data = raw_dataset.data.view(-1, 28 * 28)[:, permutation].view(-1, 28, 28)\n",
    "    test_dataset.data = test_dataset.data.view(-1, 28 * 28)[:, permutation].view(-1, 28, 28)\n",
    "\n",
    "    # Split train into train and validation\n",
    "    #val_size = int(VAL_FRAC * len(raw_dataset))\n",
    "    #train_size = len(raw_dataset) - val_size\n",
    "    #train_dataset, val_dataset = torch.utils.data.random_split(raw_dataset, [train_size, val_size])\n",
    "    \n",
    "    train_loader = torch.utils.data.DataLoader(raw_dataset, batch_size=BATCH_SIZE, shuffle=True)\n",
    "    test_loader = torch.utils.data.DataLoader(test_dataset, batch_size=BATCH_SIZE, shuffle=False)\n",
    "\n",
    "    return train_loader, test_loader\n",
    "\n",
    "def generate_rotated_mnist(i):\n",
    "    raise Exception(\"TODO\")"
   ]
  },
  {
   "cell_type": "code",
   "execution_count": 72,
   "metadata": {},
   "outputs": [
    {
     "name": "stdout",
     "output_type": "stream",
     "text": [
      "Using device: cuda\n"
     ]
    }
   ],
   "source": [
    "from torchvision import transforms\n",
    "\n",
    "# Import the best device available\n",
    "device = torch.device('cuda' if torch.cuda.is_available() else 'mps' if torch.mps.is_available() else 'cpu')\n",
    "print('Using device:', device)\n",
    "\n",
    "# Load base dataset\n",
    "transform = transforms.Compose([\n",
    "    transforms.ToTensor(),\n",
    "    transforms.Lambda(lambda x: x.view(-1))  # Flatten the image\n",
    "])\n",
    "\n",
    "raw_dataset = torchvision.datasets.MNIST(root='./data', train=True, download=True, transform=transform)\n",
    "test_dataset = torchvision.datasets.MNIST(root='./data', train=False, download=True, transform=transform)"
   ]
  },
  {
   "cell_type": "markdown",
   "metadata": {},
   "source": [
    "## Util Functions"
   ]
  },
  {
   "cell_type": "markdown",
   "metadata": {},
   "source": [
    "### Validation\n",
    "\n",
    "We are not really interested in knowing if the models overfit or not, so we don't need a train-validation split, a test set is sufficient. We use the **test accuracy** metric just like in the paper. The paper uses the term `Fraction correct` which is equivalent.\n",
    "\n",
    "We assume the dropouts have already been chosen so that the model doesn't. The paper we are trying to reproduce itself tries to reproduce results using a model architecture from another paper. The important takeaways are dropout layers added at the input layer (50% dropout) and in between all dense hidden layer (20% dropout)."
   ]
  },
  {
   "cell_type": "code",
   "execution_count": 73,
   "metadata": {},
   "outputs": [],
   "source": [
    "def evaluate_accuracy(\n",
    "    model: torch.nn.Module,\n",
    "    test_dataloader: DataLoader,\n",
    "    device: torch.device,\n",
    "):\n",
    "    \"\"\"\n",
    "    Evaluate test accuracy of the given model on the test split\n",
    "    \"\"\"\n",
    "\n",
    "    model = model.to(device)\n",
    "    model.eval()\n",
    "    correct = 0\n",
    "    total = 0\n",
    "    \n",
    "    for images, labels in test_dataloader:\n",
    "        images, labels = images.to(device), labels.to(device)\n",
    "        outputs = model(images)\n",
    "        _, predicted = torch.max(outputs.data, 1)\n",
    "        total += labels.size(0)\n",
    "        correct += (predicted == labels).sum().item()\n",
    "\n",
    "    return correct / total"
   ]
  },
  {
   "cell_type": "markdown",
   "metadata": {},
   "source": [
    "### Training Functions"
   ]
  },
  {
   "cell_type": "code",
   "execution_count": 74,
   "metadata": {},
   "outputs": [],
   "source": [
    "def train_epoch(\n",
    "    model: torch.nn.Module,\n",
    "    train_dataloader: DataLoader,\n",
    "    optimizer: torch.optim.Optimizer,\n",
    "    loss_function,\n",
    "    device: torch.device,\n",
    "):\n",
    "    \"\"\"\n",
    "    Training function. Loads the batch, perform forward pass, compute gradients and perform backward pass.\n",
    "    Only difference is that you can pass the loss function as an argument.\n",
    "    This allows to use a simple cross entropy loss function, or a more complex one including L2 or EWC regularization.\n",
    "    \"\"\"\n",
    "\n",
    "    train_loss = 0.0\n",
    "    model = model.to(device)\n",
    "    model.train()\n",
    "    for batch_idx, (data, target) in enumerate(train_dataloader):\n",
    "        # move data and target to device\n",
    "        data, target = data.to(device), target.to(device)\n",
    "\n",
    "        # zero the parameter gradients\n",
    "        optimizer.zero_grad()\n",
    "\n",
    "        # do the forward pass\n",
    "        output = model(data)\n",
    "\n",
    "        # compute the loss\n",
    "        loss = loss_function(output, target)\n",
    "\n",
    "        # compute the gradients\n",
    "        loss.backward()\n",
    "\n",
    "        # perform the gradient step\n",
    "        optimizer.step()\n",
    "\n",
    "        # print statistics\n",
    "        train_loss += loss.item()\n",
    "\n",
    "    return train_loss / len(train_dataloader)\n",
    "\n",
    "def fit(\n",
    "    model: torch.nn.Module,\n",
    "    train_dataloader: DataLoader,\n",
    "    test_dataloader: DataLoader,\n",
    "    optimizer: torch.optim.Optimizer,\n",
    "    scheduler: torch.optim.lr_scheduler.LRScheduler,\n",
    "    loss_function,\n",
    "    epochs: int,\n",
    "    device: torch.device,\n",
    "):\n",
    "    \"\"\"\n",
    "    The fit method calls the train_epoch() method for a specified\n",
    "    number of epochs and returns the train and validation losses.\n",
    "    \"\"\"\n",
    "\n",
    "    # keep track of the losses in order to visualize them later\n",
    "    train_losses = []\n",
    "    test_accuracies = []\n",
    "    for epoch in range(epochs):\n",
    "        \n",
    "        t = time() # current time\n",
    "\n",
    "        # train function\n",
    "        train_loss = train_epoch(\n",
    "            model=model,\n",
    "            train_dataloader=train_dataloader,\n",
    "            loss_function=loss_function,\n",
    "            optimizer=optimizer,\n",
    "            device=device,\n",
    "        )\n",
    "\n",
    "        # compute test accuracy\n",
    "        test_accuracy = evaluate_accuracy(\n",
    "            model=model,\n",
    "            test_dataloader=test_dataloader,\n",
    "            device=device,\n",
    "        )\n",
    "        \n",
    "        # step scheduler if needed\n",
    "        if scheduler != None:\n",
    "            scheduler.step()\n",
    "        \n",
    "        # append losses\n",
    "        train_losses.append(train_loss)\n",
    "        test_accuracies.append(test_accuracy)\n",
    "\n",
    "        dt = time() - t # time difference\n",
    "        print(f\"Epoch [{epoch + 1}/{epochs}]: train={round(train_loss, 4)} test={round(test_accuracy, 4)} ({round(dt, 1)}s)\")\n",
    "\n",
    "    return train_losses, test_accuracies\n"
   ]
  },
  {
   "cell_type": "markdown",
   "metadata": {},
   "source": [
    "## Model architecture"
   ]
  },
  {
   "cell_type": "code",
   "execution_count": 79,
   "metadata": {},
   "outputs": [
    {
     "name": "stdout",
     "output_type": "stream",
     "text": [
      "Model Parameters:  89610\n"
     ]
    }
   ],
   "source": [
    "class SmallNet(torch.nn.Module):\n",
    "    def __init__(self):\n",
    "        super(SmallNet, self).__init__()\n",
    "\n",
    "        self._input_size = 28 * 28\n",
    "        self._n_ff       = 100\n",
    "        self._n_output   = 10\n",
    "        self._do_input   = 0\n",
    "        self._do_ff      = 0\n",
    "        \n",
    "        self.do0 = torch.nn.Dropout(self._do_input)\n",
    "\n",
    "        self.ff1 = torch.nn.Linear(self._input_size, self._n_ff)\n",
    "        self.do1 = torch.nn.Dropout(self._do_ff)\n",
    "\n",
    "        self.ff2 = torch.nn.Linear(self._n_ff, self._n_ff)\n",
    "        self.do2 = torch.nn.Dropout(self._do_ff)\n",
    "\n",
    "        #self.ff3 = torch.nn.Linear(self._n_ff, self._n_ff)\n",
    "        #self.do3 = torch.nn.Dropout(self._do_ff)\n",
    "\n",
    "        #self.ff4 = torch.nn.Linear(self._n_ff, self._n_ff)\n",
    "        #self.do4 = torch.nn.Dropout(self._do_ff)\n",
    "\n",
    "        #self.ff5 = torch.nn.Linear(self._n_ff, self._n_ff)\n",
    "        #self.do5 = torch.nn.Dropout(self._do_ff)\n",
    "\n",
    "        #self.ff6 = torch.nn.Linear(self._n_ff, self._n_ff)\n",
    "        #self.do6 = torch.nn.Dropout(self._do_ff)\n",
    "\n",
    "        self.ff7 = torch.nn.Linear(self._n_ff, self._n_output)\n",
    "\n",
    "    def forward(self, x):\n",
    "\n",
    "        # input dropout of 50% as stated in paper\n",
    "        x = self.do0(x)\n",
    "\n",
    "        # dense FF hidden layers, each with 20% dropout and ReLU activation\n",
    "        # dropout is generally placed after the activation\n",
    "        x = self.do1(F.relu(self.ff1(x)))\n",
    "        x = self.do2(F.relu(self.ff2(x)))\n",
    "        #x = self.do3(F.relu(self.ff3(x)))\n",
    "        #x = self.do4(F.relu(self.ff4(x)))\n",
    "        #x = self.do5(F.relu(self.ff5(x)))\n",
    "        #x = self.do6(F.relu(self.ff6(x)))\n",
    "\n",
    "        # classification layer\n",
    "        x = self.ff7(x)\n",
    "\n",
    "        return x\n",
    "\n",
    "print(\"Model Parameters: \", sum(p.numel() for p in SmallNet().parameters()))"
   ]
  },
  {
   "cell_type": "markdown",
   "metadata": {},
   "source": [
    "### Training Script\n",
    "\n",
    "The training script generates $N$ different tasks and calls the `fit(..)` function as many times on different tasks. It then saves the curves and model obtained. It has to be ran multiple times with different loss functions to generate subfigure 2A\n",
    "\n",
    "No scheduler seems to have been used in the paper, so we are not using any here."
   ]
  },
  {
   "cell_type": "code",
   "execution_count": 80,
   "metadata": {},
   "outputs": [
    {
     "name": "stdout",
     "output_type": "stream",
     "text": [
      "Training model...\n",
      "Training on task 0...\n",
      "Epoch [1/10]: train=2.1742 test=0.5932 (4.0s)\n",
      "Epoch [2/10]: train=1.2677 test=0.8064 (3.8s)\n",
      "Epoch [3/10]: train=0.639 test=0.8625 (3.6s)\n",
      "Epoch [4/10]: train=0.4798 test=0.8846 (3.4s)\n",
      "Epoch [5/10]: train=0.4128 test=0.8946 (3.1s)\n",
      "Epoch [6/10]: train=0.3757 test=0.9023 (3.6s)\n",
      "Epoch [7/10]: train=0.3517 test=0.9064 (3.6s)\n",
      "Epoch [8/10]: train=0.334 test=0.9103 (3.6s)\n",
      "Epoch [9/10]: train=0.3199 test=0.9129 (3.6s)\n",
      "Epoch [10/10]: train=0.3079 test=0.9165 (3.6s)\n",
      "Training on task 1...\n",
      "Epoch [1/10]: train=0.7334 test=0.8886 (4.0s)\n",
      "Epoch [2/10]: train=0.4023 test=0.8962 (4.0s)\n",
      "Epoch [3/10]: train=0.3531 test=0.9009 (4.2s)\n",
      "Epoch [4/10]: train=0.3264 test=0.9026 (4.2s)\n",
      "Epoch [5/10]: train=0.3077 test=0.9038 (4.2s)\n",
      "Epoch [6/10]: train=0.2933 test=0.9058 (4.2s)\n",
      "Epoch [7/10]: train=0.2805 test=0.9049 (4.3s)\n",
      "Epoch [8/10]: train=0.2694 test=0.9063 (4.3s)\n",
      "Epoch [9/10]: train=0.2597 test=0.9055 (4.2s)\n",
      "Epoch [10/10]: train=0.2506 test=0.9072 (4.3s)\n",
      "Training on task 2...\n",
      "Epoch [1/10]: train=0.653 test=0.8774 (4.7s)\n",
      "Epoch [2/10]: train=0.359 test=0.8793 (4.7s)\n",
      "Epoch [3/10]: train=0.3167 test=0.8781 (4.7s)\n",
      "Epoch [4/10]: train=0.2926 test=0.8717 (4.7s)\n",
      "Epoch [5/10]: train=0.2754 test=0.8727 (4.6s)\n",
      "Epoch [6/10]: train=0.2614 test=0.8704 (4.7s)\n",
      "Epoch [7/10]: train=0.2496 test=0.8673 (4.6s)\n",
      "Epoch [8/10]: train=0.2393 test=0.8607 (4.5s)\n",
      "Epoch [9/10]: train=0.2302 test=0.8558 (4.5s)\n",
      "Epoch [10/10]: train=0.222 test=0.8556 (4.5s)\n",
      "Plotting curves...\n"
     ]
    },
    {
     "name": "stderr",
     "output_type": "stream",
     "text": [
      "C:\\Users\\cympe\\AppData\\Local\\Temp\\ipykernel_30484\\2388812428.py:67: UserWarning: No artists with labels found to put in legend.  Note that artists whose label start with an underscore are ignored when legend() is called with no argument.\n",
      "  axs[0].legend()\n",
      "C:\\Users\\cympe\\AppData\\Local\\Temp\\ipykernel_30484\\2388812428.py:72: UserWarning: No artists with labels found to put in legend.  Note that artists whose label start with an underscore are ignored when legend() is called with no argument.\n",
      "  axs[1].legend()\n"
     ]
    },
    {
     "data": {
      "image/png": "[encoded data removed]",
      "text/plain": [
       "<Figure size 1200x500 with 2 Axes>"
      ]
     },
     "metadata": {},
     "output_type": "display_data"
    },
    {
     "name": "stdout",
     "output_type": "stream",
     "text": [
      "Done!\n"
     ]
    }
   ],
   "source": [
    "# Number of tasks and epochs per task\n",
    "# Type of regularization. Very important for the paper, as it changes the training process\n",
    "# Type of tasks. We can choose between permuted MNIST and rotated MNIST\n",
    "N_EPOCHS          = 10\n",
    "REGULARIZATION    = \"SGD\" # Possible Values: `SGD`, `L2`, `EWC`\n",
    "N_TASKS           = 3\n",
    "DATASET_GENERATOR = generate_permuted_mnist\n",
    "\n",
    "# Initialize model\n",
    "model = SmallNet()\n",
    "model.to(device)\n",
    "\n",
    "# Loss, optimizer and scheduler\n",
    "#optimizer = torch.optim.Adam(model.parameters(), lr=1e-3)\n",
    "#optimizer = torch.optim.AdamW(model.parameters(), lr=1e-3, weight_decay=1e-4)\n",
    "optimizer = torch.optim.SGD(model.parameters(), lr=1e-3, momentum=0.9, weight_decay=5e-4)\n",
    "\n",
    "#scheduler = torch.optim.lr_scheduler.ExponentialLR(optimizer=optimizer, gamma=.9)\n",
    "#scheduler = torch.optim.lr_scheduler.StepLR(optimizer, step_size=5, gamma=0.2)\n",
    "\n",
    "print('Training model...')\n",
    "\n",
    "train_losses = []\n",
    "test_accuracies = []\n",
    "\n",
    "test_dataloader = None\n",
    "\n",
    "for i_task in range(N_TASKS):\n",
    "    print(f'Training on task {i_task}...')\n",
    "\n",
    "    # Generate new task\n",
    "    train_dataloader, partial_test_dataloader = DATASET_GENERATOR(i_task)\n",
    "\n",
    "    # Combine test_dataloaders\n",
    "    if test_dataloader == None:\n",
    "        test_dataloader = partial_test_dataloader\n",
    "    else:\n",
    "        test_dataset = torch.utils.data.ConcatDataset([test_dataloader.dataset, partial_test_dataloader.dataset])\n",
    "        test_dataloader = torch.utils.data.DataLoader(test_dataset, batch_size=BATCH_SIZE, shuffle=False)\n",
    "\n",
    "    # Fit on task\n",
    "    train_losses_task, test_accuracies_task = fit(\n",
    "        model=model,\n",
    "        train_dataloader=train_dataloader,\n",
    "        test_dataloader=test_dataloader,\n",
    "        optimizer=optimizer,\n",
    "        loss_function=F.cross_entropy,\n",
    "        scheduler=None,\n",
    "        epochs=N_EPOCHS,\n",
    "        device=device,\n",
    "    )\n",
    "\n",
    "    train_losses += train_losses_task\n",
    "    test_accuracies += test_accuracies_task\n",
    "\n",
    "# Save model and curves\n",
    "torch.save(model.state_dict(), f'{REGULARIZATION}.pt') # not used\n",
    "np.save(f'{REGULARIZATION}_train_losses.npy', train_losses) # not used\n",
    "np.save(f'{REGULARIZATION}_test_accuracies.npy', test_accuracies)\n",
    "\n",
    "# Plot loss as fct of epoch\n",
    "print('Plotting curves...')\n",
    "fig, axs = plt.subplots(1, 2, figsize=(12, 5))\n",
    "\n",
    "# Plot training and validation losses\n",
    "axs[0].plot(train_losses)\n",
    "axs[0].legend()\n",
    "axs[0].set_title('Training Loss')\n",
    "\n",
    "# Plot test accuracy\n",
    "axs[1].plot(test_accuracies, color='green')\n",
    "axs[1].legend()\n",
    "axs[1].set_title('Test Accuracy')\n",
    "\n",
    "plt.show()\n",
    "\n",
    "print('Done!');"
   ]
  },
  {
   "cell_type": "markdown",
   "metadata": {},
   "source": [
    "## Generate Figure 2A\n",
    "\n",
    "Follow these steps to generate figure 2A. You can then redo all these steps after changing the dataset from permuted to rotated MNIST using the option `DATASET_GENERATOR`.\n",
    "The regularization technique used can be chosen by changing the option `REGULARIZATION`. Each reg technique will save their respective train accuracy curves to different files.\n",
    "\n",
    "- Run above script with simple cross entropy function (no regularization)\n",
    "- Run above script with L2 regularization loss function\n",
    "- Run script above with EWC regularization\n",
    "- Run the following script which compiles all curves above into one."
   ]
  },
  {
   "cell_type": "code",
   "execution_count": 23,
   "metadata": {},
   "outputs": [
    {
     "ename": "FileNotFoundError",
     "evalue": "[Errno 2] No such file or directory: 'SGD_test_accuracies.npy'",
     "output_type": "error",
     "traceback": [
      "\u001b[1;31m---------------------------------------------------------------------------\u001b[0m",
      "\u001b[1;31mFileNotFoundError\u001b[0m                         Traceback (most recent call last)",
      "Cell \u001b[1;32mIn[23], line 8\u001b[0m\n\u001b[0;32m      1\u001b[0m FILE_NAMES \u001b[38;5;241m=\u001b[39m [\n\u001b[0;32m      2\u001b[0m     \u001b[38;5;124m\"\u001b[39m\u001b[38;5;124mSGD\u001b[39m\u001b[38;5;124m\"\u001b[39m,\n\u001b[0;32m      3\u001b[0m     \u001b[38;5;124m\"\u001b[39m\u001b[38;5;124mL2\u001b[39m\u001b[38;5;124m\"\u001b[39m,\n\u001b[0;32m      4\u001b[0m     \u001b[38;5;124m\"\u001b[39m\u001b[38;5;124mEWC\u001b[39m\u001b[38;5;124m\"\u001b[39m,\n\u001b[0;32m      5\u001b[0m ]\n\u001b[0;32m      7\u001b[0m \u001b[38;5;28;01mfor\u001b[39;00m file_name \u001b[38;5;129;01min\u001b[39;00m FILE_NAMES:\n\u001b[1;32m----> 8\u001b[0m     test_accuracies \u001b[38;5;241m=\u001b[39m \u001b[43mnp\u001b[49m\u001b[38;5;241;43m.\u001b[39;49m\u001b[43mload\u001b[49m\u001b[43m(\u001b[49m\u001b[38;5;124;43mf\u001b[39;49m\u001b[38;5;124;43m'\u001b[39;49m\u001b[38;5;132;43;01m{\u001b[39;49;00m\u001b[43mfile_name\u001b[49m\u001b[38;5;132;43;01m}\u001b[39;49;00m\u001b[38;5;124;43m_test_accuracies.npy\u001b[39;49m\u001b[38;5;124;43m'\u001b[39;49m\u001b[43m)\u001b[49m\n\u001b[0;32m      9\u001b[0m     plt\u001b[38;5;241m.\u001b[39mplot(test_accuracies, label\u001b[38;5;241m=\u001b[39mfile_name)\n\u001b[0;32m     11\u001b[0m plt\u001b[38;5;241m.\u001b[39mtitle()\n",
      "File \u001b[1;32m~\\AppData\\Roaming\\Python\\Python312\\site-packages\\numpy\\lib\\npyio.py:427\u001b[0m, in \u001b[0;36mload\u001b[1;34m(file, mmap_mode, allow_pickle, fix_imports, encoding, max_header_size)\u001b[0m\n\u001b[0;32m    425\u001b[0m     own_fid \u001b[38;5;241m=\u001b[39m \u001b[38;5;28;01mFalse\u001b[39;00m\n\u001b[0;32m    426\u001b[0m \u001b[38;5;28;01melse\u001b[39;00m:\n\u001b[1;32m--> 427\u001b[0m     fid \u001b[38;5;241m=\u001b[39m stack\u001b[38;5;241m.\u001b[39menter_context(\u001b[38;5;28;43mopen\u001b[39;49m\u001b[43m(\u001b[49m\u001b[43mos_fspath\u001b[49m\u001b[43m(\u001b[49m\u001b[43mfile\u001b[49m\u001b[43m)\u001b[49m\u001b[43m,\u001b[49m\u001b[43m \u001b[49m\u001b[38;5;124;43m\"\u001b[39;49m\u001b[38;5;124;43mrb\u001b[39;49m\u001b[38;5;124;43m\"\u001b[39;49m\u001b[43m)\u001b[49m)\n\u001b[0;32m    428\u001b[0m     own_fid \u001b[38;5;241m=\u001b[39m \u001b[38;5;28;01mTrue\u001b[39;00m\n\u001b[0;32m    430\u001b[0m \u001b[38;5;66;03m# Code to distinguish from NumPy binary files and pickles.\u001b[39;00m\n",
      "\u001b[1;31mFileNotFoundError\u001b[0m: [Errno 2] No such file or directory: 'SGD_test_accuracies.npy'"
     ]
    }
   ],
   "source": [
    "FILE_NAMES = [\n",
    "    \"SGD\",\n",
    "    \"L2\",\n",
    "    \"EWC\",\n",
    "]\n",
    "\n",
    "for file_name in FILE_NAMES:\n",
    "    test_accuracies = np.load(f'{file_name}_test_accuracies.npy')\n",
    "    plt.plot(test_accuracies, label=file_name)\n",
    "\n",
    "plt.title()\n",
    "plt.ylabel('Frac. correct')\n",
    "plt.xlabel('Training time')\n",
    "\n",
    "plt.show()"
   ]
  },
  {
   "cell_type": "code",
   "execution_count": null,
   "metadata": {},
   "outputs": [],
   "source": []
  }
 ],
 "metadata": {
  "kernelspec": {
   "display_name": "Python 3",
   "language": "python",
   "name": "python3"
  },
  "language_info": {
   "codemirror_mode": {
    "name": "ipython",
    "version": 3
   },
   "file_extension": ".py",
   "mimetype": "text/x-python",
   "name": "python",
   "nbconvert_exporter": "python",
   "pygments_lexer": "ipython3",
   "version": "3.12.8"
  }
 },
 "nbformat": 4,
 "nbformat_minor": 2
}
